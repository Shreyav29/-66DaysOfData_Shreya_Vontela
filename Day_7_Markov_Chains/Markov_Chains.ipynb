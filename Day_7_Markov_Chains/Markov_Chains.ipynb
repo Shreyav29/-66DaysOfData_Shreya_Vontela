{
 "cells": [
  {
   "cell_type": "code",
   "execution_count": 15,
   "metadata": {},
   "outputs": [],
   "source": [
    "import numpy as np\n",
    "from matplotlib import pyplot as plt"
   ]
  },
  {
   "cell_type": "code",
   "execution_count": 2,
   "metadata": {},
   "outputs": [],
   "source": [
    "A = np.zeros((4,4))"
   ]
  },
  {
   "cell_type": "code",
   "execution_count": 3,
   "metadata": {},
   "outputs": [],
   "source": [
    "A[0,1] = 2/3\n",
    "A[0,3] = 1/3\n",
    "A[1,2] = 1\n",
    "A[2,0] = 3/4\n",
    "A[2,3] = 1/4\n",
    "A[3,1] = 1/2\n",
    "A[3,2] = 1/2"
   ]
  },
  {
   "cell_type": "code",
   "execution_count": 4,
   "metadata": {},
   "outputs": [
    {
     "data": {
      "text/plain": [
       "array([[0.        , 0.66666667, 0.        , 0.33333333],\n",
       "       [0.        , 0.        , 1.        , 0.        ],\n",
       "       [0.75      , 0.        , 0.        , 0.25      ],\n",
       "       [0.        , 0.5       , 0.5       , 0.        ]])"
      ]
     },
     "execution_count": 4,
     "metadata": {},
     "output_type": "execute_result"
    }
   ],
   "source": [
    "A"
   ]
  },
  {
   "cell_type": "code",
   "execution_count": 5,
   "metadata": {},
   "outputs": [],
   "source": [
    "x=[1/4,1/4,1/4,1/4]"
   ]
  },
  {
   "cell_type": "code",
   "execution_count": 6,
   "metadata": {},
   "outputs": [
    {
     "data": {
      "text/plain": [
       "array([0.1875    , 0.29166667, 0.375     , 0.14583333])"
      ]
     },
     "execution_count": 6,
     "metadata": {},
     "output_type": "execute_result"
    }
   ],
   "source": [
    "np.dot(x,A)"
   ]
  },
  {
   "cell_type": "code",
   "execution_count": 16,
   "metadata": {},
   "outputs": [
    {
     "data": {
      "text/plain": [
       "[<matplotlib.lines.Line2D at 0x7ff706dba890>,\n",
       " <matplotlib.lines.Line2D at 0x7ff706da3610>,\n",
       " <matplotlib.lines.Line2D at 0x7ff706dba990>,\n",
       " <matplotlib.lines.Line2D at 0x7ff706dbaa50>]"
      ]
     },
     "execution_count": 16,
     "metadata": {},
     "output_type": "execute_result"
    },
    {
     "data": {
      "image/png": "[encoded data removed]",
      "text/plain": [
       "<Figure size 432x288 with 1 Axes>"
      ]
     },
     "metadata": {
      "needs_background": "light"
     },
     "output_type": "display_data"
    }
   ],
   "source": [
    "T=1000\n",
    "x=[1/4,1/4,1/4,1/4]\n",
    "X = []\n",
    "X.append(x)\n",
    "\n",
    "for i in range(T):\n",
    "    x = np.dot(x, A)\n",
    "    X.append(x)\n",
    "\n",
    "plt.plot(X)"
   ]
  },
  {
   "cell_type": "code",
   "execution_count": 17,
   "metadata": {},
   "outputs": [
    {
     "data": {
      "text/plain": [
       "[<matplotlib.lines.Line2D at 0x7ff706e36150>,\n",
       " <matplotlib.lines.Line2D at 0x7ff706e14e90>,\n",
       " <matplotlib.lines.Line2D at 0x7ff706e36250>,\n",
       " <matplotlib.lines.Line2D at 0x7ff706e36310>]"
      ]
     },
     "execution_count": 17,
     "metadata": {},
     "output_type": "execute_result"
    },
    {
     "data": {
      "image/png": "[encoded data removed]",
      "text/plain": [
       "<Figure size 432x288 with 1 Axes>"
      ]
     },
     "metadata": {
      "needs_background": "light"
     },
     "output_type": "display_data"
    }
   ],
   "source": [
    "T=1000\n",
    "x=[0.2,0.2,0.5,0.1]\n",
    "X = []\n",
    "X.append(x)\n",
    "\n",
    "for i in range(T):\n",
    "    x = np.dot(x, A)\n",
    "    X.append(x)\n",
    "\n",
    "plt.plot(X)"
   ]
  },
  {
   "cell_type": "code",
   "execution_count": null,
   "metadata": {},
   "outputs": [],
   "source": []
  }
 ],
 "metadata": {
  "kernelspec": {
   "display_name": "Python 3",
   "language": "python",
   "name": "python3"
  },
  "language_info": {
   "codemirror_mode": {
    "name": "ipython",
    "version": 3
   },
   "file_extension": ".py",
   "mimetype": "text/x-python",
   "name": "python",
   "nbconvert_exporter": "python",
   "pygments_lexer": "ipython3",
   "version": "3.7.6"
  }
 },
 "nbformat": 4,
 "nbformat_minor": 4
}
